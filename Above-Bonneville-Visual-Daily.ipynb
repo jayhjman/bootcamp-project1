{
 "cells": [
  {
   "cell_type": "code",
   "execution_count": 1,
   "metadata": {},
   "outputs": [],
   "source": [
    "# Imports\n",
    "import pandas as pd\n",
    "import matplotlib.pyplot as plt\n",
    "from scipy.stats import linregress\n",
    "import numpy as np"
   ]
  },
  {
   "cell_type": "markdown",
   "metadata": {},
   "source": [
    "## Bonneville Dam Data Source\n",
    "\n",
    "http://www.cbr.washington.edu/dart/query/adult_daily\n"
   ]
  },
  {
   "cell_type": "code",
   "execution_count": 2,
   "metadata": {},
   "outputs": [
    {
     "data": {
      "text/html": [
       "<div>\n",
       "<style scoped>\n",
       "    .dataframe tbody tr th:only-of-type {\n",
       "        vertical-align: middle;\n",
       "    }\n",
       "\n",
       "    .dataframe tbody tr th {\n",
       "        vertical-align: top;\n",
       "    }\n",
       "\n",
       "    .dataframe thead th {\n",
       "        text-align: right;\n",
       "    }\n",
       "</style>\n",
       "<table border=\"1\" class=\"dataframe\">\n",
       "  <thead>\n",
       "    <tr style=\"text-align: right;\">\n",
       "      <th></th>\n",
       "      <th>Project</th>\n",
       "      <th>Date</th>\n",
       "      <th>Chin</th>\n",
       "    </tr>\n",
       "  </thead>\n",
       "  <tbody>\n",
       "    <tr>\n",
       "      <th>0</th>\n",
       "      <td>Bonneville</td>\n",
       "      <td>2008-03-01</td>\n",
       "      <td>0</td>\n",
       "    </tr>\n",
       "    <tr>\n",
       "      <th>1</th>\n",
       "      <td>Bonneville</td>\n",
       "      <td>2008-03-02</td>\n",
       "      <td>0</td>\n",
       "    </tr>\n",
       "    <tr>\n",
       "      <th>2</th>\n",
       "      <td>Bonneville</td>\n",
       "      <td>2008-03-03</td>\n",
       "      <td>1</td>\n",
       "    </tr>\n",
       "    <tr>\n",
       "      <th>3</th>\n",
       "      <td>Bonneville</td>\n",
       "      <td>2008-03-04</td>\n",
       "      <td>1</td>\n",
       "    </tr>\n",
       "    <tr>\n",
       "      <th>4</th>\n",
       "      <td>Bonneville</td>\n",
       "      <td>2008-03-05</td>\n",
       "      <td>0</td>\n",
       "    </tr>\n",
       "    <tr>\n",
       "      <th>...</th>\n",
       "      <td>...</td>\n",
       "      <td>...</td>\n",
       "      <td>...</td>\n",
       "    </tr>\n",
       "    <tr>\n",
       "      <th>87</th>\n",
       "      <td>Bonneville</td>\n",
       "      <td>2020-05-27</td>\n",
       "      <td>1238</td>\n",
       "    </tr>\n",
       "    <tr>\n",
       "      <th>88</th>\n",
       "      <td>Bonneville</td>\n",
       "      <td>2020-05-28</td>\n",
       "      <td>1016</td>\n",
       "    </tr>\n",
       "    <tr>\n",
       "      <th>89</th>\n",
       "      <td>Bonneville</td>\n",
       "      <td>2020-05-29</td>\n",
       "      <td>1485</td>\n",
       "    </tr>\n",
       "    <tr>\n",
       "      <th>90</th>\n",
       "      <td>Bonneville</td>\n",
       "      <td>2020-05-30</td>\n",
       "      <td>1309</td>\n",
       "    </tr>\n",
       "    <tr>\n",
       "      <th>91</th>\n",
       "      <td>Bonneville</td>\n",
       "      <td>2020-05-31</td>\n",
       "      <td>1129</td>\n",
       "    </tr>\n",
       "  </tbody>\n",
       "</table>\n",
       "<p>1196 rows × 3 columns</p>\n",
       "</div>"
      ],
      "text/plain": [
       "       Project        Date  Chin\n",
       "0   Bonneville  2008-03-01     0\n",
       "1   Bonneville  2008-03-02     0\n",
       "2   Bonneville  2008-03-03     1\n",
       "3   Bonneville  2008-03-04     1\n",
       "4   Bonneville  2008-03-05     0\n",
       "..         ...         ...   ...\n",
       "87  Bonneville  2020-05-27  1238\n",
       "88  Bonneville  2020-05-28  1016\n",
       "89  Bonneville  2020-05-29  1485\n",
       "90  Bonneville  2020-05-30  1309\n",
       "91  Bonneville  2020-05-31  1129\n",
       "\n",
       "[1196 rows x 3 columns]"
      ]
     },
     "execution_count": 2,
     "metadata": {},
     "output_type": "execute_result"
    }
   ],
   "source": [
    "# Create a list of dataframes to concat later\n",
    "bonneville_salmon_list = []\n",
    "\n",
    "# Loop through all the files and add them to the list\n",
    "for i in range(8,21):\n",
    "    \n",
    "    # Read in Bonneville Dam Spring Chinook Counts\n",
    "    bonneville_file = f\"Resources/adultdaily_bonneville_20{i:02}.csv\"\n",
    "    \n",
    "    # Grab only the columns we want\n",
    "    bonneville_salmon_df = pd.read_csv(bonneville_file, usecols=[\"Project\",\"Date\",\"Chin\"])\n",
    "    \n",
    "    # Append the df to the list\n",
    "    bonneville_salmon_list.append(bonneville_salmon_df)\n",
    "\n",
    "# Concat the list of dataframes    \n",
    "combined_bonneville_salmon_df = pd.concat(bonneville_salmon_list)\n",
    "\n",
    "# Clean up the na's with zero values\n",
    "combined_bonneville_salmon_df[\"Chin\"] = combined_bonneville_salmon_df[\"Chin\"].fillna(0)\n",
    "\n",
    "# Clean up data types\n",
    "combined_bonneville_salmon_df[\"Chin\"] = combined_bonneville_salmon_df[\"Chin\"].astype('int')\n",
    "\n",
    "\n",
    "combined_bonneville_salmon_df"
   ]
  },
  {
   "cell_type": "code",
   "execution_count": 3,
   "metadata": {},
   "outputs": [
    {
     "data": {
      "text/html": [
       "<div>\n",
       "<style scoped>\n",
       "    .dataframe tbody tr th:only-of-type {\n",
       "        vertical-align: middle;\n",
       "    }\n",
       "\n",
       "    .dataframe tbody tr th {\n",
       "        vertical-align: top;\n",
       "    }\n",
       "\n",
       "    .dataframe thead th {\n",
       "        text-align: right;\n",
       "    }\n",
       "</style>\n",
       "<table border=\"1\" class=\"dataframe\">\n",
       "  <thead>\n",
       "    <tr style=\"text-align: right;\">\n",
       "      <th></th>\n",
       "      <th>Year</th>\n",
       "      <th>Chin</th>\n",
       "    </tr>\n",
       "  </thead>\n",
       "  <tbody>\n",
       "    <tr>\n",
       "      <th>0</th>\n",
       "      <td>2008</td>\n",
       "      <td>125582</td>\n",
       "    </tr>\n",
       "    <tr>\n",
       "      <th>1</th>\n",
       "      <td>2009</td>\n",
       "      <td>114548</td>\n",
       "    </tr>\n",
       "    <tr>\n",
       "      <th>2</th>\n",
       "      <td>2010</td>\n",
       "      <td>244419</td>\n",
       "    </tr>\n",
       "    <tr>\n",
       "      <th>3</th>\n",
       "      <td>2011</td>\n",
       "      <td>167132</td>\n",
       "    </tr>\n",
       "    <tr>\n",
       "      <th>4</th>\n",
       "      <td>2012</td>\n",
       "      <td>158088</td>\n",
       "    </tr>\n",
       "    <tr>\n",
       "      <th>5</th>\n",
       "      <td>2013</td>\n",
       "      <td>83339</td>\n",
       "    </tr>\n",
       "    <tr>\n",
       "      <th>6</th>\n",
       "      <td>2014</td>\n",
       "      <td>188079</td>\n",
       "    </tr>\n",
       "    <tr>\n",
       "      <th>7</th>\n",
       "      <td>2015</td>\n",
       "      <td>220471</td>\n",
       "    </tr>\n",
       "    <tr>\n",
       "      <th>8</th>\n",
       "      <td>2016</td>\n",
       "      <td>137204</td>\n",
       "    </tr>\n",
       "    <tr>\n",
       "      <th>9</th>\n",
       "      <td>2017</td>\n",
       "      <td>83623</td>\n",
       "    </tr>\n",
       "    <tr>\n",
       "      <th>10</th>\n",
       "      <td>2018</td>\n",
       "      <td>87892</td>\n",
       "    </tr>\n",
       "    <tr>\n",
       "      <th>11</th>\n",
       "      <td>2019</td>\n",
       "      <td>54657</td>\n",
       "    </tr>\n",
       "    <tr>\n",
       "      <th>12</th>\n",
       "      <td>2020</td>\n",
       "      <td>55590</td>\n",
       "    </tr>\n",
       "  </tbody>\n",
       "</table>\n",
       "</div>"
      ],
      "text/plain": [
       "    Year    Chin\n",
       "0   2008  125582\n",
       "1   2009  114548\n",
       "2   2010  244419\n",
       "3   2011  167132\n",
       "4   2012  158088\n",
       "5   2013   83339\n",
       "6   2014  188079\n",
       "7   2015  220471\n",
       "8   2016  137204\n",
       "9   2017   83623\n",
       "10  2018   87892\n",
       "11  2019   54657\n",
       "12  2020   55590"
      ]
     },
     "execution_count": 3,
     "metadata": {},
     "output_type": "execute_result"
    }
   ],
   "source": [
    "yearly_bonneville_salmon_df = combined_bonneville_salmon_df.copy(deep=True)\n",
    "yearly_bonneville_salmon_df[[\"Year\", \"Month\", \"Day\"]] = yearly_bonneville_salmon_df['Date'].str.split('-', expand=True)\n",
    "yearly_bonneville_salmon_df= yearly_bonneville_salmon_df.groupby(\"Year\").agg({\"Chin\":\"sum\"}).reset_index()\n",
    "yearly_bonneville_salmon_df[\"Year\"] = yearly_bonneville_salmon_df[\"Year\"].astype('int')\n",
    "yearly_bonneville_salmon_df"
   ]
  },
  {
   "cell_type": "code",
   "execution_count": 4,
   "metadata": {},
   "outputs": [
    {
     "data": {
      "text/plain": [
       "[<matplotlib.lines.Line2D at 0x24aabfbf860>]"
      ]
     },
     "execution_count": 4,
     "metadata": {},
     "output_type": "execute_result"
    },
    {
     "data": {
      "image/png": "[encoded data removed]",
      "text/plain": [
       "<Figure size 432x288 with 1 Axes>"
      ]
     },
     "metadata": {
      "needs_background": "light"
     },
     "output_type": "display_data"
    }
   ],
   "source": [
    "# Calculate a trend line\n",
    "z = np.polyfit(yearly_bonneville_salmon_df[\"Year\"], yearly_bonneville_salmon_df[\"Chin\"], 1)\n",
    "p = np.poly1d(z)\n",
    "\n",
    "# Quick Plot of the Spring Chinook Counts over Years\n",
    "fig, ax = plt.subplots()\n",
    "ax.set_xlabel(\"Year\")\n",
    "ax.set_ylabel(\"Spring Chinook Count\")\n",
    "ax.set_title(\"Bonneville Dam Spring Chinook Counts over Years\")\n",
    "ax.grid(True)\n",
    "ax.plot(yearly_bonneville_salmon_df[\"Year\"],p(yearly_bonneville_salmon_df[\"Year\"]),\"r--\")\n",
    "ax.plot(yearly_bonneville_salmon_df[\"Year\"], yearly_bonneville_salmon_df[\"Chin\"] )"
   ]
  },
  {
   "cell_type": "markdown",
   "metadata": {},
   "source": [
    "## Bonneville Above\"Forebay\" Data Source\n",
    "\n",
    "https://waterdata.usgs.gov/usa/nwis/uv?site_no=453845121562000\n",
    "\n",
    "mapper: https://maps.waterdata.usgs.gov/mapper/index.html"
   ]
  },
  {
   "cell_type": "code",
   "execution_count": 5,
   "metadata": {},
   "outputs": [
    {
     "data": {
      "text/html": [
       "<div>\n",
       "<style scoped>\n",
       "    .dataframe tbody tr th:only-of-type {\n",
       "        vertical-align: middle;\n",
       "    }\n",
       "\n",
       "    .dataframe tbody tr th {\n",
       "        vertical-align: top;\n",
       "    }\n",
       "\n",
       "    .dataframe thead th {\n",
       "        text-align: right;\n",
       "    }\n",
       "</style>\n",
       "<table border=\"1\" class=\"dataframe\">\n",
       "  <thead>\n",
       "    <tr style=\"text-align: right;\">\n",
       "      <th></th>\n",
       "      <th>agency_cd</th>\n",
       "      <th>site_no</th>\n",
       "      <th>datetime</th>\n",
       "      <th>Temp_Max</th>\n",
       "      <th>Status_Max_Temp</th>\n",
       "      <th>Temp_Min</th>\n",
       "      <th>Status_Temp_Min</th>\n",
       "      <th>Temp_Mean</th>\n",
       "      <th>Status_Temp_Mean</th>\n",
       "    </tr>\n",
       "  </thead>\n",
       "  <tbody>\n",
       "    <tr>\n",
       "      <th>0</th>\n",
       "      <td>USGS</td>\n",
       "      <td>453845121562000</td>\n",
       "      <td>2008-02-28</td>\n",
       "      <td>5.2</td>\n",
       "      <td>A</td>\n",
       "      <td>4.9</td>\n",
       "      <td>A</td>\n",
       "      <td>5.0</td>\n",
       "      <td>A</td>\n",
       "    </tr>\n",
       "    <tr>\n",
       "      <th>1</th>\n",
       "      <td>USGS</td>\n",
       "      <td>453845121562000</td>\n",
       "      <td>2008-02-29</td>\n",
       "      <td>5.2</td>\n",
       "      <td>A</td>\n",
       "      <td>5.1</td>\n",
       "      <td>A</td>\n",
       "      <td>5.2</td>\n",
       "      <td>A</td>\n",
       "    </tr>\n",
       "    <tr>\n",
       "      <th>2</th>\n",
       "      <td>USGS</td>\n",
       "      <td>453845121562000</td>\n",
       "      <td>2008-03-01</td>\n",
       "      <td>5.3</td>\n",
       "      <td>A</td>\n",
       "      <td>5.2</td>\n",
       "      <td>A</td>\n",
       "      <td>5.2</td>\n",
       "      <td>A</td>\n",
       "    </tr>\n",
       "    <tr>\n",
       "      <th>3</th>\n",
       "      <td>USGS</td>\n",
       "      <td>453845121562000</td>\n",
       "      <td>2008-03-02</td>\n",
       "      <td>5.3</td>\n",
       "      <td>A</td>\n",
       "      <td>5.2</td>\n",
       "      <td>A</td>\n",
       "      <td>5.2</td>\n",
       "      <td>A</td>\n",
       "    </tr>\n",
       "    <tr>\n",
       "      <th>4</th>\n",
       "      <td>USGS</td>\n",
       "      <td>453845121562000</td>\n",
       "      <td>2008-03-03</td>\n",
       "      <td>5.3</td>\n",
       "      <td>A</td>\n",
       "      <td>5.2</td>\n",
       "      <td>A</td>\n",
       "      <td>5.2</td>\n",
       "      <td>A</td>\n",
       "    </tr>\n",
       "  </tbody>\n",
       "</table>\n",
       "</div>"
      ],
      "text/plain": [
       "  agency_cd          site_no    datetime  Temp_Max Status_Max_Temp  Temp_Min  \\\n",
       "0      USGS  453845121562000  2008-02-28       5.2               A       4.9   \n",
       "1      USGS  453845121562000  2008-02-29       5.2               A       5.1   \n",
       "2      USGS  453845121562000  2008-03-01       5.3               A       5.2   \n",
       "3      USGS  453845121562000  2008-03-02       5.3               A       5.2   \n",
       "4      USGS  453845121562000  2008-03-03       5.3               A       5.2   \n",
       "\n",
       "  Status_Temp_Min  Temp_Mean Status_Temp_Mean  \n",
       "0               A        5.0                A  \n",
       "1               A        5.2                A  \n",
       "2               A        5.2                A  \n",
       "3               A        5.2                A  \n",
       "4               A        5.2                A  "
      ]
     },
     "execution_count": 5,
     "metadata": {},
     "output_type": "execute_result"
    }
   ],
   "source": [
    "# Create bonneville above gage df\n",
    "bonneville_above_temp_file = \"Resources/Columbia_bonne_above.csv\"\n",
    "bonneville_above_temp_df = pd.read_csv(bonneville_above_temp_file, sep=\"\\t\")\n",
    "bonneville_above_temp_df.head()"
   ]
  },
  {
   "cell_type": "code",
   "execution_count": 6,
   "metadata": {},
   "outputs": [
    {
     "data": {
      "text/html": [
       "<div>\n",
       "<style scoped>\n",
       "    .dataframe tbody tr th:only-of-type {\n",
       "        vertical-align: middle;\n",
       "    }\n",
       "\n",
       "    .dataframe tbody tr th {\n",
       "        vertical-align: top;\n",
       "    }\n",
       "\n",
       "    .dataframe thead th {\n",
       "        text-align: right;\n",
       "    }\n",
       "</style>\n",
       "<table border=\"1\" class=\"dataframe\">\n",
       "  <thead>\n",
       "    <tr style=\"text-align: right;\">\n",
       "      <th></th>\n",
       "      <th>agency_cd</th>\n",
       "      <th>site_no</th>\n",
       "      <th>Date</th>\n",
       "      <th>Temp_Mean</th>\n",
       "    </tr>\n",
       "  </thead>\n",
       "  <tbody>\n",
       "    <tr>\n",
       "      <th>0</th>\n",
       "      <td>USGS</td>\n",
       "      <td>453845121562000</td>\n",
       "      <td>2008-02-28</td>\n",
       "      <td>5.0</td>\n",
       "    </tr>\n",
       "    <tr>\n",
       "      <th>1</th>\n",
       "      <td>USGS</td>\n",
       "      <td>453845121562000</td>\n",
       "      <td>2008-02-29</td>\n",
       "      <td>5.2</td>\n",
       "    </tr>\n",
       "    <tr>\n",
       "      <th>2</th>\n",
       "      <td>USGS</td>\n",
       "      <td>453845121562000</td>\n",
       "      <td>2008-03-01</td>\n",
       "      <td>5.2</td>\n",
       "    </tr>\n",
       "    <tr>\n",
       "      <th>3</th>\n",
       "      <td>USGS</td>\n",
       "      <td>453845121562000</td>\n",
       "      <td>2008-03-02</td>\n",
       "      <td>5.2</td>\n",
       "    </tr>\n",
       "    <tr>\n",
       "      <th>4</th>\n",
       "      <td>USGS</td>\n",
       "      <td>453845121562000</td>\n",
       "      <td>2008-03-03</td>\n",
       "      <td>5.2</td>\n",
       "    </tr>\n",
       "  </tbody>\n",
       "</table>\n",
       "</div>"
      ],
      "text/plain": [
       "  agency_cd          site_no        Date  Temp_Mean\n",
       "0      USGS  453845121562000  2008-02-28        5.0\n",
       "1      USGS  453845121562000  2008-02-29        5.2\n",
       "2      USGS  453845121562000  2008-03-01        5.2\n",
       "3      USGS  453845121562000  2008-03-02        5.2\n",
       "4      USGS  453845121562000  2008-03-03        5.2"
      ]
     },
     "execution_count": 6,
     "metadata": {},
     "output_type": "execute_result"
    }
   ],
   "source": [
    "# Clean the dataframe up and parse the dates\n",
    "clean_bonneville_above_temp_df = bonneville_above_temp_df[[\"agency_cd\", \"site_no\", \"datetime\", \"Temp_Mean\" ]].copy(deep=True)\n",
    "clean_bonneville_above_temp_df = clean_bonneville_above_temp_df.rename(columns={\"datetime\":\"Date\"})\n",
    "clean_bonneville_above_temp_df.head()"
   ]
  },
  {
   "cell_type": "code",
   "execution_count": 7,
   "metadata": {},
   "outputs": [
    {
     "data": {
      "text/plain": [
       "agency_cd     object\n",
       "site_no        int64\n",
       "Date          object\n",
       "Temp_Mean    float64\n",
       "dtype: object"
      ]
     },
     "execution_count": 7,
     "metadata": {},
     "output_type": "execute_result"
    }
   ],
   "source": [
    "# Check the types now\n",
    "clean_bonneville_above_temp_df.dtypes"
   ]
  },
  {
   "cell_type": "code",
   "execution_count": 8,
   "metadata": {
    "scrolled": true
   },
   "outputs": [],
   "source": [
    "# Merge Salmon Data with temp data\n",
    "merged_above_bonneville_salmon_data_df = pd.merge(combined_bonneville_salmon_df, clean_bonneville_above_temp_df, on=\"Date\")\n",
    "merged_above_bonneville_salmon_data_df[merged_above_bonneville_salmon_data_df.isna().any(axis=1)]\n",
    "\n",
    "# Create a Farenhieght Temperature\n",
    "merged_above_bonneville_salmon_data_df['temperature_f'] = merged_above_bonneville_salmon_data_df['Temp_Mean'] * 1.8 + 32\n"
   ]
  },
  {
   "cell_type": "code",
   "execution_count": 9,
   "metadata": {},
   "outputs": [
    {
     "data": {
      "text/html": [
       "<div>\n",
       "<style scoped>\n",
       "    .dataframe tbody tr th:only-of-type {\n",
       "        vertical-align: middle;\n",
       "    }\n",
       "\n",
       "    .dataframe tbody tr th {\n",
       "        vertical-align: top;\n",
       "    }\n",
       "\n",
       "    .dataframe thead th {\n",
       "        text-align: right;\n",
       "    }\n",
       "</style>\n",
       "<table border=\"1\" class=\"dataframe\">\n",
       "  <thead>\n",
       "    <tr style=\"text-align: right;\">\n",
       "      <th></th>\n",
       "      <th>Project</th>\n",
       "      <th>Date</th>\n",
       "      <th>Chin</th>\n",
       "      <th>agency_cd</th>\n",
       "      <th>site_no</th>\n",
       "      <th>Temp_Mean</th>\n",
       "      <th>temperature_f</th>\n",
       "    </tr>\n",
       "  </thead>\n",
       "  <tbody>\n",
       "  </tbody>\n",
       "</table>\n",
       "</div>"
      ],
      "text/plain": [
       "Empty DataFrame\n",
       "Columns: [Project, Date, Chin, agency_cd, site_no, Temp_Mean, temperature_f]\n",
       "Index: []"
      ]
     },
     "execution_count": 9,
     "metadata": {},
     "output_type": "execute_result"
    }
   ],
   "source": [
    "clean_temp_df = merged_above_bonneville_salmon_data_df.dropna()\n",
    "clean_temp_df[clean_temp_df.isna().any(axis=1)]"
   ]
  },
  {
   "cell_type": "code",
   "execution_count": 10,
   "metadata": {},
   "outputs": [
    {
     "data": {
      "text/html": [
       "<div>\n",
       "<style scoped>\n",
       "    .dataframe tbody tr th:only-of-type {\n",
       "        vertical-align: middle;\n",
       "    }\n",
       "\n",
       "    .dataframe tbody tr th {\n",
       "        vertical-align: top;\n",
       "    }\n",
       "\n",
       "    .dataframe thead th {\n",
       "        text-align: right;\n",
       "    }\n",
       "</style>\n",
       "<table border=\"1\" class=\"dataframe\">\n",
       "  <thead>\n",
       "    <tr style=\"text-align: right;\">\n",
       "      <th></th>\n",
       "      <th>Project</th>\n",
       "      <th>Date</th>\n",
       "      <th>Chin</th>\n",
       "      <th>agency_cd</th>\n",
       "      <th>site_no</th>\n",
       "      <th>Temp_Mean</th>\n",
       "      <th>temperature_f</th>\n",
       "    </tr>\n",
       "  </thead>\n",
       "  <tbody>\n",
       "    <tr>\n",
       "      <th>2</th>\n",
       "      <td>Bonneville</td>\n",
       "      <td>2008-03-03</td>\n",
       "      <td>1</td>\n",
       "      <td>USGS</td>\n",
       "      <td>453845121562000</td>\n",
       "      <td>5.2</td>\n",
       "      <td>41.36</td>\n",
       "    </tr>\n",
       "    <tr>\n",
       "      <th>3</th>\n",
       "      <td>Bonneville</td>\n",
       "      <td>2008-03-04</td>\n",
       "      <td>1</td>\n",
       "      <td>USGS</td>\n",
       "      <td>453845121562000</td>\n",
       "      <td>5.2</td>\n",
       "      <td>41.36</td>\n",
       "    </tr>\n",
       "    <tr>\n",
       "      <th>5</th>\n",
       "      <td>Bonneville</td>\n",
       "      <td>2008-03-06</td>\n",
       "      <td>1</td>\n",
       "      <td>USGS</td>\n",
       "      <td>453845121562000</td>\n",
       "      <td>5.2</td>\n",
       "      <td>41.36</td>\n",
       "    </tr>\n",
       "    <tr>\n",
       "      <th>6</th>\n",
       "      <td>Bonneville</td>\n",
       "      <td>2008-03-07</td>\n",
       "      <td>1</td>\n",
       "      <td>USGS</td>\n",
       "      <td>453845121562000</td>\n",
       "      <td>5.2</td>\n",
       "      <td>41.36</td>\n",
       "    </tr>\n",
       "    <tr>\n",
       "      <th>7</th>\n",
       "      <td>Bonneville</td>\n",
       "      <td>2008-03-08</td>\n",
       "      <td>3</td>\n",
       "      <td>USGS</td>\n",
       "      <td>453845121562000</td>\n",
       "      <td>5.3</td>\n",
       "      <td>41.54</td>\n",
       "    </tr>\n",
       "    <tr>\n",
       "      <th>...</th>\n",
       "      <td>...</td>\n",
       "      <td>...</td>\n",
       "      <td>...</td>\n",
       "      <td>...</td>\n",
       "      <td>...</td>\n",
       "      <td>...</td>\n",
       "      <td>...</td>\n",
       "    </tr>\n",
       "    <tr>\n",
       "      <th>1191</th>\n",
       "      <td>Bonneville</td>\n",
       "      <td>2020-05-27</td>\n",
       "      <td>1238</td>\n",
       "      <td>USGS</td>\n",
       "      <td>453845121562000</td>\n",
       "      <td>13.5</td>\n",
       "      <td>56.30</td>\n",
       "    </tr>\n",
       "    <tr>\n",
       "      <th>1192</th>\n",
       "      <td>Bonneville</td>\n",
       "      <td>2020-05-28</td>\n",
       "      <td>1016</td>\n",
       "      <td>USGS</td>\n",
       "      <td>453845121562000</td>\n",
       "      <td>13.7</td>\n",
       "      <td>56.66</td>\n",
       "    </tr>\n",
       "    <tr>\n",
       "      <th>1193</th>\n",
       "      <td>Bonneville</td>\n",
       "      <td>2020-05-29</td>\n",
       "      <td>1485</td>\n",
       "      <td>USGS</td>\n",
       "      <td>453845121562000</td>\n",
       "      <td>14.0</td>\n",
       "      <td>57.20</td>\n",
       "    </tr>\n",
       "    <tr>\n",
       "      <th>1194</th>\n",
       "      <td>Bonneville</td>\n",
       "      <td>2020-05-30</td>\n",
       "      <td>1309</td>\n",
       "      <td>USGS</td>\n",
       "      <td>453845121562000</td>\n",
       "      <td>14.1</td>\n",
       "      <td>57.38</td>\n",
       "    </tr>\n",
       "    <tr>\n",
       "      <th>1195</th>\n",
       "      <td>Bonneville</td>\n",
       "      <td>2020-05-31</td>\n",
       "      <td>1129</td>\n",
       "      <td>USGS</td>\n",
       "      <td>453845121562000</td>\n",
       "      <td>14.3</td>\n",
       "      <td>57.74</td>\n",
       "    </tr>\n",
       "  </tbody>\n",
       "</table>\n",
       "<p>970 rows × 7 columns</p>\n",
       "</div>"
      ],
      "text/plain": [
       "         Project        Date  Chin agency_cd          site_no  Temp_Mean  \\\n",
       "2     Bonneville  2008-03-03     1      USGS  453845121562000        5.2   \n",
       "3     Bonneville  2008-03-04     1      USGS  453845121562000        5.2   \n",
       "5     Bonneville  2008-03-06     1      USGS  453845121562000        5.2   \n",
       "6     Bonneville  2008-03-07     1      USGS  453845121562000        5.2   \n",
       "7     Bonneville  2008-03-08     3      USGS  453845121562000        5.3   \n",
       "...          ...         ...   ...       ...              ...        ...   \n",
       "1191  Bonneville  2020-05-27  1238      USGS  453845121562000       13.5   \n",
       "1192  Bonneville  2020-05-28  1016      USGS  453845121562000       13.7   \n",
       "1193  Bonneville  2020-05-29  1485      USGS  453845121562000       14.0   \n",
       "1194  Bonneville  2020-05-30  1309      USGS  453845121562000       14.1   \n",
       "1195  Bonneville  2020-05-31  1129      USGS  453845121562000       14.3   \n",
       "\n",
       "      temperature_f  \n",
       "2             41.36  \n",
       "3             41.36  \n",
       "5             41.36  \n",
       "6             41.36  \n",
       "7             41.54  \n",
       "...             ...  \n",
       "1191          56.30  \n",
       "1192          56.66  \n",
       "1193          57.20  \n",
       "1194          57.38  \n",
       "1195          57.74  \n",
       "\n",
       "[970 rows x 7 columns]"
      ]
     },
     "execution_count": 10,
     "metadata": {},
     "output_type": "execute_result"
    }
   ],
   "source": [
    "clean_temp_df = clean_temp_df[\n",
    "    clean_temp_df[\"Chin\"] != 0\n",
    "]\n",
    "clean_temp_df"
   ]
  },
  {
   "cell_type": "code",
   "execution_count": 11,
   "metadata": {
    "scrolled": true
   },
   "outputs": [
    {
     "data": {
      "text/plain": [
       "<BarContainer object of 970 artists>"
      ]
     },
     "execution_count": 11,
     "metadata": {},
     "output_type": "execute_result"
    },
    {
     "data": {
      "image/png": "[encoded data removed]",
      "text/plain": [
       "<Figure size 432x288 with 1 Axes>"
      ]
     },
     "metadata": {
      "needs_background": "light"
     },
     "output_type": "display_data"
    }
   ],
   "source": [
    "# Plot bar char distribution\n",
    "fig, ax = plt.subplots()\n",
    "ax.set_xlabel(\"Water Temperature (F)\")\n",
    "ax.set_ylabel(\"Spring Chinook Count\")\n",
    "ax.set_title(\"Bonneville Dam Spring Chinook Count vs Temperature Above Dam (Daily 2008-2020)\")\n",
    "ax.bar(clean_temp_df[\"temperature_f\"], clean_temp_df[\"Chin\"])"
   ]
  },
  {
   "cell_type": "code",
   "execution_count": 12,
   "metadata": {},
   "outputs": [
    {
     "name": "stdout",
     "output_type": "stream",
     "text": [
      "The r-value is: 0.3592601486635263\n",
      "The r2-value is: 0.12906785441773902\n",
      "The p-value is: 6.3521647965507195e-31\n"
     ]
    },
    {
     "data": {
      "text/plain": [
       "<matplotlib.collections.PathCollection at 0x24aace73898>"
      ]
     },
     "execution_count": 12,
     "metadata": {},
     "output_type": "execute_result"
    },
    {
     "data": {
      "image/png": "[encoded data removed]",
      "text/plain": [
       "<Figure size 432x288 with 1 Axes>"
      ]
     },
     "metadata": {
      "needs_background": "light"
     },
     "output_type": "display_data"
    }
   ],
   "source": [
    "# Plot a scatter and regression of temperature and salmon counts to see if any correlation\n",
    "\n",
    "slope, intercept, rvalue, pvalue, stderr = linregress(clean_temp_df[\"temperature_f\"], \n",
    "                                                      clean_temp_df[\"Chin\"])\n",
    "regress_values =clean_temp_df[\"temperature_f\"] * slope + intercept\n",
    "line_eq = \"y = \" + str(round(slope,2)) + \"x + \" + str(round(intercept,2))\n",
    "print(f\"The r-value is: {rvalue}\")\n",
    "print(f\"The r2-value is: {rvalue**2}\")\n",
    "print(f\"The p-value is: {pvalue}\")\n",
    "\n",
    "fig, ax = plt.subplots()\n",
    "ax.set_xlabel(\"Temperature (F)\")\n",
    "ax.set_ylabel(\"Spring Chinook Count\")\n",
    "ax.set_title(\"Bonneville Dam Spring Chinook Count vs Temperature Above Dam (Daily 2008-2020)\")\n",
    "ax.annotate(line_eq, (21,14500), fontsize=15, color=\"red\")\n",
    "ax.plot(clean_temp_df[\"temperature_f\"], regress_values, \"r-\")\n",
    "ax.scatter(clean_temp_df[\"temperature_f\"], clean_temp_df[\"Chin\"])"
   ]
  },
  {
   "cell_type": "markdown",
   "metadata": {},
   "source": [
    "# Above Bonneville \"Stevensen\" Gage Data Source\n",
    "https://waterdata.usgs.gov/usa/nwis/uv?site_no=14128600\n",
    "\n",
    "mapper: https://maps.waterdata.usgs.gov/mapper/index.html"
   ]
  },
  {
   "cell_type": "code",
   "execution_count": 13,
   "metadata": {},
   "outputs": [
    {
     "data": {
      "text/html": [
       "<div>\n",
       "<style scoped>\n",
       "    .dataframe tbody tr th:only-of-type {\n",
       "        vertical-align: middle;\n",
       "    }\n",
       "\n",
       "    .dataframe tbody tr th {\n",
       "        vertical-align: top;\n",
       "    }\n",
       "\n",
       "    .dataframe thead th {\n",
       "        text-align: right;\n",
       "    }\n",
       "</style>\n",
       "<table border=\"1\" class=\"dataframe\">\n",
       "  <thead>\n",
       "    <tr style=\"text-align: right;\">\n",
       "      <th></th>\n",
       "      <th>agency_cd</th>\n",
       "      <th>site_no</th>\n",
       "      <th>datetime</th>\n",
       "      <th>Gage_Max</th>\n",
       "      <th>Status_Gage_Max</th>\n",
       "      <th>Gage_min</th>\n",
       "      <th>Status_gage_min</th>\n",
       "      <th>Gage_Mean</th>\n",
       "      <th>Status_Gage_Mean</th>\n",
       "    </tr>\n",
       "  </thead>\n",
       "  <tbody>\n",
       "    <tr>\n",
       "      <th>0</th>\n",
       "      <td>USGS</td>\n",
       "      <td>14128600</td>\n",
       "      <td>2008-10-01</td>\n",
       "      <td>76.23</td>\n",
       "      <td>A</td>\n",
       "      <td>75.93</td>\n",
       "      <td>A</td>\n",
       "      <td>76.05</td>\n",
       "      <td>A</td>\n",
       "    </tr>\n",
       "    <tr>\n",
       "      <th>1</th>\n",
       "      <td>USGS</td>\n",
       "      <td>14128600</td>\n",
       "      <td>2008-10-02</td>\n",
       "      <td>76.33</td>\n",
       "      <td>A</td>\n",
       "      <td>76.03</td>\n",
       "      <td>A</td>\n",
       "      <td>76.21</td>\n",
       "      <td>A</td>\n",
       "    </tr>\n",
       "    <tr>\n",
       "      <th>2</th>\n",
       "      <td>USGS</td>\n",
       "      <td>14128600</td>\n",
       "      <td>2008-10-03</td>\n",
       "      <td>76.53</td>\n",
       "      <td>A</td>\n",
       "      <td>76.03</td>\n",
       "      <td>A</td>\n",
       "      <td>76.33</td>\n",
       "      <td>A</td>\n",
       "    </tr>\n",
       "    <tr>\n",
       "      <th>3</th>\n",
       "      <td>USGS</td>\n",
       "      <td>14128600</td>\n",
       "      <td>2008-10-04</td>\n",
       "      <td>76.33</td>\n",
       "      <td>A</td>\n",
       "      <td>76.03</td>\n",
       "      <td>A</td>\n",
       "      <td>76.11</td>\n",
       "      <td>A</td>\n",
       "    </tr>\n",
       "    <tr>\n",
       "      <th>4</th>\n",
       "      <td>USGS</td>\n",
       "      <td>14128600</td>\n",
       "      <td>2008-10-05</td>\n",
       "      <td>76.43</td>\n",
       "      <td>A</td>\n",
       "      <td>76.13</td>\n",
       "      <td>A</td>\n",
       "      <td>76.31</td>\n",
       "      <td>A</td>\n",
       "    </tr>\n",
       "  </tbody>\n",
       "</table>\n",
       "</div>"
      ],
      "text/plain": [
       "  agency_cd   site_no    datetime  Gage_Max    Status_Gage_Max  Gage_min  \\\n",
       "0      USGS  14128600  2008-10-01        76.23               A     75.93   \n",
       "1      USGS  14128600  2008-10-02        76.33               A     76.03   \n",
       "2      USGS  14128600  2008-10-03        76.53               A     76.03   \n",
       "3      USGS  14128600  2008-10-04        76.33               A     76.03   \n",
       "4      USGS  14128600  2008-10-05        76.43               A     76.13   \n",
       "\n",
       "  Status_gage_min  Gage_Mean Status_Gage_Mean  \n",
       "0               A      76.05                A  \n",
       "1               A      76.21                A  \n",
       "2               A      76.33                A  \n",
       "3               A      76.11                A  \n",
       "4               A      76.31                A  "
      ]
     },
     "execution_count": 13,
     "metadata": {},
     "output_type": "execute_result"
    }
   ],
   "source": [
    "# Get Stevensen gage data just above Bonneville\n",
    "above_bonneville_stevenson_file = \"Resources/columbia_bonne_stevenson.csv\"\n",
    "above_bonneville_stevenson_df = pd.read_csv(above_bonneville_stevenson_file, sep=\"\\t\")\n",
    "above_bonneville_stevenson_df.head()"
   ]
  },
  {
   "cell_type": "code",
   "execution_count": 14,
   "metadata": {},
   "outputs": [
    {
     "data": {
      "text/html": [
       "<div>\n",
       "<style scoped>\n",
       "    .dataframe tbody tr th:only-of-type {\n",
       "        vertical-align: middle;\n",
       "    }\n",
       "\n",
       "    .dataframe tbody tr th {\n",
       "        vertical-align: top;\n",
       "    }\n",
       "\n",
       "    .dataframe thead th {\n",
       "        text-align: right;\n",
       "    }\n",
       "</style>\n",
       "<table border=\"1\" class=\"dataframe\">\n",
       "  <thead>\n",
       "    <tr style=\"text-align: right;\">\n",
       "      <th></th>\n",
       "      <th>agency_cd</th>\n",
       "      <th>site_no</th>\n",
       "      <th>datetime</th>\n",
       "      <th>Gage_Mean</th>\n",
       "    </tr>\n",
       "  </thead>\n",
       "  <tbody>\n",
       "    <tr>\n",
       "      <th>0</th>\n",
       "      <td>USGS</td>\n",
       "      <td>14128600</td>\n",
       "      <td>2008-10-01</td>\n",
       "      <td>76.05</td>\n",
       "    </tr>\n",
       "    <tr>\n",
       "      <th>1</th>\n",
       "      <td>USGS</td>\n",
       "      <td>14128600</td>\n",
       "      <td>2008-10-02</td>\n",
       "      <td>76.21</td>\n",
       "    </tr>\n",
       "    <tr>\n",
       "      <th>2</th>\n",
       "      <td>USGS</td>\n",
       "      <td>14128600</td>\n",
       "      <td>2008-10-03</td>\n",
       "      <td>76.33</td>\n",
       "    </tr>\n",
       "    <tr>\n",
       "      <th>3</th>\n",
       "      <td>USGS</td>\n",
       "      <td>14128600</td>\n",
       "      <td>2008-10-04</td>\n",
       "      <td>76.11</td>\n",
       "    </tr>\n",
       "    <tr>\n",
       "      <th>4</th>\n",
       "      <td>USGS</td>\n",
       "      <td>14128600</td>\n",
       "      <td>2008-10-05</td>\n",
       "      <td>76.31</td>\n",
       "    </tr>\n",
       "  </tbody>\n",
       "</table>\n",
       "</div>"
      ],
      "text/plain": [
       "  agency_cd   site_no    datetime  Gage_Mean\n",
       "0      USGS  14128600  2008-10-01      76.05\n",
       "1      USGS  14128600  2008-10-02      76.21\n",
       "2      USGS  14128600  2008-10-03      76.33\n",
       "3      USGS  14128600  2008-10-04      76.11\n",
       "4      USGS  14128600  2008-10-05      76.31"
      ]
     },
     "execution_count": 14,
     "metadata": {},
     "output_type": "execute_result"
    }
   ],
   "source": [
    "# Reduce data frame down to columns that I need\n",
    "clean_above_bonneville_stevensen_gage_df = above_bonneville_stevenson_df[[\"agency_cd\", \"site_no\", \"datetime\", \"Gage_Mean\" ]].copy(deep=True)\n",
    "clean_above_bonneville_stevensen_gage_df.head()"
   ]
  },
  {
   "cell_type": "code",
   "execution_count": 15,
   "metadata": {},
   "outputs": [
    {
     "data": {
      "text/html": [
       "<div>\n",
       "<style scoped>\n",
       "    .dataframe tbody tr th:only-of-type {\n",
       "        vertical-align: middle;\n",
       "    }\n",
       "\n",
       "    .dataframe tbody tr th {\n",
       "        vertical-align: top;\n",
       "    }\n",
       "\n",
       "    .dataframe thead th {\n",
       "        text-align: right;\n",
       "    }\n",
       "</style>\n",
       "<table border=\"1\" class=\"dataframe\">\n",
       "  <thead>\n",
       "    <tr style=\"text-align: right;\">\n",
       "      <th></th>\n",
       "      <th>agency_cd</th>\n",
       "      <th>site_no</th>\n",
       "      <th>Date</th>\n",
       "      <th>Gage_Mean</th>\n",
       "    </tr>\n",
       "  </thead>\n",
       "  <tbody>\n",
       "    <tr>\n",
       "      <th>0</th>\n",
       "      <td>USGS</td>\n",
       "      <td>14128600</td>\n",
       "      <td>2008-10-01</td>\n",
       "      <td>76.05</td>\n",
       "    </tr>\n",
       "    <tr>\n",
       "      <th>1</th>\n",
       "      <td>USGS</td>\n",
       "      <td>14128600</td>\n",
       "      <td>2008-10-02</td>\n",
       "      <td>76.21</td>\n",
       "    </tr>\n",
       "    <tr>\n",
       "      <th>2</th>\n",
       "      <td>USGS</td>\n",
       "      <td>14128600</td>\n",
       "      <td>2008-10-03</td>\n",
       "      <td>76.33</td>\n",
       "    </tr>\n",
       "    <tr>\n",
       "      <th>3</th>\n",
       "      <td>USGS</td>\n",
       "      <td>14128600</td>\n",
       "      <td>2008-10-04</td>\n",
       "      <td>76.11</td>\n",
       "    </tr>\n",
       "    <tr>\n",
       "      <th>4</th>\n",
       "      <td>USGS</td>\n",
       "      <td>14128600</td>\n",
       "      <td>2008-10-05</td>\n",
       "      <td>76.31</td>\n",
       "    </tr>\n",
       "  </tbody>\n",
       "</table>\n",
       "</div>"
      ],
      "text/plain": [
       "  agency_cd   site_no        Date  Gage_Mean\n",
       "0      USGS  14128600  2008-10-01      76.05\n",
       "1      USGS  14128600  2008-10-02      76.21\n",
       "2      USGS  14128600  2008-10-03      76.33\n",
       "3      USGS  14128600  2008-10-04      76.11\n",
       "4      USGS  14128600  2008-10-05      76.31"
      ]
     },
     "execution_count": 15,
     "metadata": {},
     "output_type": "execute_result"
    }
   ],
   "source": [
    "# Clean the dataframe up and parse the dates\n",
    "clean_above_bonneville_stevensen_gage_df = clean_above_bonneville_stevensen_gage_df[[\"agency_cd\", \"site_no\", \"datetime\", \"Gage_Mean\" ]].copy(deep=True)\n",
    "clean_above_bonneville_stevensen_gage_df = clean_above_bonneville_stevensen_gage_df.rename(columns={\"datetime\":\"Date\"})\n",
    "clean_above_bonneville_stevensen_gage_df.head()"
   ]
  },
  {
   "cell_type": "code",
   "execution_count": 16,
   "metadata": {},
   "outputs": [
    {
     "data": {
      "text/plain": [
       "agency_cd     object\n",
       "site_no        int64\n",
       "Date          object\n",
       "Gage_Mean    float64\n",
       "dtype: object"
      ]
     },
     "execution_count": 16,
     "metadata": {},
     "output_type": "execute_result"
    }
   ],
   "source": [
    "# Check the types now\n",
    "clean_above_bonneville_stevensen_gage_df.dtypes"
   ]
  },
  {
   "cell_type": "code",
   "execution_count": 17,
   "metadata": {},
   "outputs": [
    {
     "data": {
      "text/html": [
       "<div>\n",
       "<style scoped>\n",
       "    .dataframe tbody tr th:only-of-type {\n",
       "        vertical-align: middle;\n",
       "    }\n",
       "\n",
       "    .dataframe tbody tr th {\n",
       "        vertical-align: top;\n",
       "    }\n",
       "\n",
       "    .dataframe thead th {\n",
       "        text-align: right;\n",
       "    }\n",
       "</style>\n",
       "<table border=\"1\" class=\"dataframe\">\n",
       "  <thead>\n",
       "    <tr style=\"text-align: right;\">\n",
       "      <th></th>\n",
       "      <th>Project</th>\n",
       "      <th>Date</th>\n",
       "      <th>Chin</th>\n",
       "      <th>agency_cd</th>\n",
       "      <th>site_no</th>\n",
       "      <th>Gage_Mean</th>\n",
       "    </tr>\n",
       "  </thead>\n",
       "  <tbody>\n",
       "  </tbody>\n",
       "</table>\n",
       "</div>"
      ],
      "text/plain": [
       "Empty DataFrame\n",
       "Columns: [Project, Date, Chin, agency_cd, site_no, Gage_Mean]\n",
       "Index: []"
      ]
     },
     "execution_count": 17,
     "metadata": {},
     "output_type": "execute_result"
    }
   ],
   "source": [
    "# Merge Salmon Data with Gage data\n",
    "merged_above_bonneville_salmon_data_df = pd.merge(combined_bonneville_salmon_df, clean_above_bonneville_stevensen_gage_df, on=\"Date\")\n",
    "merged_above_bonneville_salmon_data_df[merged_above_bonneville_salmon_data_df.isna().any(axis=1)]"
   ]
  },
  {
   "cell_type": "code",
   "execution_count": 18,
   "metadata": {},
   "outputs": [
    {
     "data": {
      "text/plain": [
       "<BarContainer object of 1104 artists>"
      ]
     },
     "execution_count": 18,
     "metadata": {},
     "output_type": "execute_result"
    },
    {
     "data": {
      "image/png": "[encoded data removed]",
      "text/plain": [
       "<Figure size 432x288 with 1 Axes>"
      ]
     },
     "metadata": {
      "needs_background": "light"
     },
     "output_type": "display_data"
    }
   ],
   "source": [
    "# Plot bar char distribution\n",
    "fig, ax = plt.subplots()\n",
    "ax.set_xlabel(\"Water Gage Depth (Feet)\")\n",
    "ax.set_ylabel(\"Spring Chinook Count\")\n",
    "ax.set_title(\"Bonneville Dam Spring Chinook Count vs Gage Depth Above Dam (Daily 2008-2020)\")\n",
    "ax.bar(merged_above_bonneville_salmon_data_df[\"Gage_Mean\"], merged_above_bonneville_salmon_data_df[\"Chin\"])"
   ]
  },
  {
   "cell_type": "code",
   "execution_count": 19,
   "metadata": {},
   "outputs": [
    {
     "name": "stdout",
     "output_type": "stream",
     "text": [
      "The r-value is: 0.1478259944818323\n",
      "The r2-value is: 0.021852524644542716\n",
      "The p-value is: 8.085071504614143e-07\n"
     ]
    },
    {
     "data": {
      "text/plain": [
       "<matplotlib.collections.PathCollection at 0x24aadf93cf8>"
      ]
     },
     "execution_count": 19,
     "metadata": {},
     "output_type": "execute_result"
    },
    {
     "data": {
      "image/png": "[encoded data removed]",
      "text/plain": [
       "<Figure size 432x288 with 1 Axes>"
      ]
     },
     "metadata": {
      "needs_background": "light"
     },
     "output_type": "display_data"
    }
   ],
   "source": [
    "# Plot a scatter and regression of river depth and salmon counts to see if any correlation\n",
    "\n",
    "slope, intercept, rvalue, pvalue, stderr = linregress(merged_above_bonneville_salmon_data_df[\"Gage_Mean\"], \n",
    "                                                      merged_above_bonneville_salmon_data_df[\"Chin\"])\n",
    "regress_values =merged_above_bonneville_salmon_data_df[\"Gage_Mean\"] * slope + intercept\n",
    "line_eq = \"y = \" + str(round(slope,2)) + \"x + \" + str(round(intercept,2))\n",
    "print(f\"The r-value is: {rvalue}\")\n",
    "print(f\"The r2-value is: {rvalue**2}\")\n",
    "print(f\"The p-value is: {pvalue}\")\n",
    "\n",
    "fig, ax = plt.subplots()\n",
    "ax.set_xlabel(\"Water Gage Depth (Feet)\")\n",
    "ax.set_ylabel(\"Spring Chinook Count\")\n",
    "ax.set_title(\"Bonneville Dam Spring Chinook Count vs Gage Depth Above Dam (Daily 2008-2020)\")\n",
    "ax.annotate(line_eq, (73,10500), fontsize=15, color=\"red\")\n",
    "ax.plot(merged_above_bonneville_salmon_data_df[\"Gage_Mean\"], regress_values, \"r-\")\n",
    "ax.scatter(merged_above_bonneville_salmon_data_df[\"Gage_Mean\"], merged_above_bonneville_salmon_data_df[\"Chin\"])"
   ]
  },
  {
   "cell_type": "code",
   "execution_count": null,
   "metadata": {},
   "outputs": [],
   "source": []
  }
 ],
 "metadata": {
  "kernelspec": {
   "display_name": "Python 3",
   "language": "python",
   "name": "python3"
  },
  "language_info": {
   "codemirror_mode": {
    "name": "ipython",
    "version": 3
   },
   "file_extension": ".py",
   "mimetype": "text/x-python",
   "name": "python",
   "nbconvert_exporter": "python",
   "pygments_lexer": "ipython3",
   "version": "3.6.10"
  }
 },
 "nbformat": 4,
 "nbformat_minor": 4
}
