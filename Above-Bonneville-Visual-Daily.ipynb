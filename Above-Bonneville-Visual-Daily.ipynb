{
 "cells": [
  {
   "cell_type": "code",
   "execution_count": 1,
   "metadata": {},
   "outputs": [],
   "source": [
    "# Imports\n",
    "import pandas as pd\n",
    "import matplotlib.pyplot as plt\n",
    "from scipy.stats import linregress\n",
    "import numpy as np"
   ]
  },
  {
   "cell_type": "markdown",
   "metadata": {},
   "source": [
    "## Bonneville Dam Data Source\n",
    "\n",
    "http://www.cbr.washington.edu/dart/query/adult_daily\n"
   ]
  },
  {
   "cell_type": "code",
   "execution_count": 2,
   "metadata": {},
   "outputs": [
    {
     "data": {
      "text/html": [
       "<div>\n",
       "<style scoped>\n",
       "    .dataframe tbody tr th:only-of-type {\n",
       "        vertical-align: middle;\n",
       "    }\n",
       "\n",
       "    .dataframe tbody tr th {\n",
       "        vertical-align: top;\n",
       "    }\n",
       "\n",
       "    .dataframe thead th {\n",
       "        text-align: right;\n",
       "    }\n",
       "</style>\n",
       "<table border=\"1\" class=\"dataframe\">\n",
       "  <thead>\n",
       "    <tr style=\"text-align: right;\">\n",
       "      <th></th>\n",
       "      <th>Project</th>\n",
       "      <th>Date</th>\n",
       "      <th>Chin</th>\n",
       "    </tr>\n",
       "  </thead>\n",
       "  <tbody>\n",
       "    <tr>\n",
       "      <th>0</th>\n",
       "      <td>Bonneville</td>\n",
       "      <td>2008-03-01</td>\n",
       "      <td>0</td>\n",
       "    </tr>\n",
       "    <tr>\n",
       "      <th>1</th>\n",
       "      <td>Bonneville</td>\n",
       "      <td>2008-03-02</td>\n",
       "      <td>0</td>\n",
       "    </tr>\n",
       "    <tr>\n",
       "      <th>2</th>\n",
       "      <td>Bonneville</td>\n",
       "      <td>2008-03-03</td>\n",
       "      <td>1</td>\n",
       "    </tr>\n",
       "    <tr>\n",
       "      <th>3</th>\n",
       "      <td>Bonneville</td>\n",
       "      <td>2008-03-04</td>\n",
       "      <td>1</td>\n",
       "    </tr>\n",
       "    <tr>\n",
       "      <th>4</th>\n",
       "      <td>Bonneville</td>\n",
       "      <td>2008-03-05</td>\n",
       "      <td>0</td>\n",
       "    </tr>\n",
       "    <tr>\n",
       "      <th>...</th>\n",
       "      <td>...</td>\n",
       "      <td>...</td>\n",
       "      <td>...</td>\n",
       "    </tr>\n",
       "    <tr>\n",
       "      <th>87</th>\n",
       "      <td>Bonneville</td>\n",
       "      <td>2020-05-27</td>\n",
       "      <td>1238</td>\n",
       "    </tr>\n",
       "    <tr>\n",
       "      <th>88</th>\n",
       "      <td>Bonneville</td>\n",
       "      <td>2020-05-28</td>\n",
       "      <td>1016</td>\n",
       "    </tr>\n",
       "    <tr>\n",
       "      <th>89</th>\n",
       "      <td>Bonneville</td>\n",
       "      <td>2020-05-29</td>\n",
       "      <td>1485</td>\n",
       "    </tr>\n",
       "    <tr>\n",
       "      <th>90</th>\n",
       "      <td>Bonneville</td>\n",
       "      <td>2020-05-30</td>\n",
       "      <td>1309</td>\n",
       "    </tr>\n",
       "    <tr>\n",
       "      <th>91</th>\n",
       "      <td>Bonneville</td>\n",
       "      <td>2020-05-31</td>\n",
       "      <td>1129</td>\n",
       "    </tr>\n",
       "  </tbody>\n",
       "</table>\n",
       "<p>1196 rows × 3 columns</p>\n",
       "</div>"
      ],
      "text/plain": [
       "       Project        Date  Chin\n",
       "0   Bonneville  2008-03-01     0\n",
       "1   Bonneville  2008-03-02     0\n",
       "2   Bonneville  2008-03-03     1\n",
       "3   Bonneville  2008-03-04     1\n",
       "4   Bonneville  2008-03-05     0\n",
       "..         ...         ...   ...\n",
       "87  Bonneville  2020-05-27  1238\n",
       "88  Bonneville  2020-05-28  1016\n",
       "89  Bonneville  2020-05-29  1485\n",
       "90  Bonneville  2020-05-30  1309\n",
       "91  Bonneville  2020-05-31  1129\n",
       "\n",
       "[1196 rows x 3 columns]"
      ]
     },
     "execution_count": 2,
     "metadata": {},
     "output_type": "execute_result"
    }
   ],
   "source": [
    "# Create a list of dataframes to concat later\n",
    "bonneville_salmon_list = []\n",
    "\n",
    "# Loop through all the files and add them to the list\n",
    "for i in range(8,21):\n",
    "    \n",
    "    # Read in Bonneville Dam Spring Chinook Counts\n",
    "    bonneville_file = f\"Resources/adultdaily_bonneville_20{i:02}.csv\"\n",
    "    \n",
    "    # Grab only the columns we want\n",
    "    bonneville_salmon_df = pd.read_csv(bonneville_file, usecols=[\"Project\",\"Date\",\"Chin\"])\n",
    "    \n",
    "    # Append the df to the list\n",
    "    bonneville_salmon_list.append(bonneville_salmon_df)\n",
    "\n",
    "# Concat the list of dataframes    \n",
    "combined_bonneville_salmon_df = pd.concat(bonneville_salmon_list)\n",
    "\n",
    "# Clean up the na's with zero values\n",
    "combined_bonneville_salmon_df[\"Chin\"] = combined_bonneville_salmon_df[\"Chin\"].fillna(0)\n",
    "\n",
    "# Clean up data types\n",
    "combined_bonneville_salmon_df[\"Chin\"] = combined_bonneville_salmon_df[\"Chin\"].astype('int')\n",
    "\n",
    "\n",
    "combined_bonneville_salmon_df"
   ]
  },
  {
   "cell_type": "code",
   "execution_count": null,
   "metadata": {},
   "outputs": [],
   "source": []
  },
  {
   "cell_type": "code",
   "execution_count": null,
   "metadata": {},
   "outputs": [],
   "source": []
  },
  {
   "cell_type": "code",
   "execution_count": null,
   "metadata": {},
   "outputs": [],
   "source": []
  },
  {
   "cell_type": "code",
   "execution_count": null,
   "metadata": {},
   "outputs": [],
   "source": []
  },
  {
   "cell_type": "code",
   "execution_count": null,
   "metadata": {},
   "outputs": [],
   "source": []
  },
  {
   "cell_type": "code",
   "execution_count": null,
   "metadata": {},
   "outputs": [],
   "source": []
  },
  {
   "cell_type": "code",
   "execution_count": null,
   "metadata": {},
   "outputs": [],
   "source": []
  },
  {
   "cell_type": "code",
   "execution_count": null,
   "metadata": {},
   "outputs": [],
   "source": []
  },
  {
   "cell_type": "code",
   "execution_count": null,
   "metadata": {},
   "outputs": [],
   "source": []
  },
  {
   "cell_type": "code",
   "execution_count": null,
   "metadata": {},
   "outputs": [],
   "source": []
  }
 ],
 "metadata": {
  "kernelspec": {
   "display_name": "Python 3",
   "language": "python",
   "name": "python3"
  },
  "language_info": {
   "codemirror_mode": {
    "name": "ipython",
    "version": 3
   },
   "file_extension": ".py",
   "mimetype": "text/x-python",
   "name": "python",
   "nbconvert_exporter": "python",
   "pygments_lexer": "ipython3",
   "version": "3.6.10"
  }
 },
 "nbformat": 4,
 "nbformat_minor": 4
}
